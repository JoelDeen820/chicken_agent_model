{
 "cells": [
  {
   "cell_type": "markdown",
   "metadata": {
    "collapsed": false
   },
   "source": []
  },
  {
   "cell_type": "code",
   "execution_count": 1,
   "metadata": {
    "ExecuteTime": {
     "end_time": "2023-04-15T12:47:26.638459Z",
     "start_time": "2023-04-15T12:47:26.135802Z"
    },
    "collapsed": true
   },
   "outputs": [],
   "source": [
    "from utilities.barn_enviroment import Barn"
   ]
  },
  {
   "cell_type": "code",
   "execution_count": 3,
   "metadata": {
    "ExecuteTime": {
     "end_time": "2023-04-15T12:47:27.348273Z",
     "start_time": "2023-04-15T12:47:27.218213Z"
    },
    "collapsed": false
   },
   "outputs": [
    {
     "ename": "AttributeError",
     "evalue": "'FoodScape' object has no attribute 'num_lines'",
     "output_type": "error",
     "traceback": [
      "\u001b[1;31m---------------------------------------------------------------------------\u001b[0m",
      "\u001b[1;31mAttributeError\u001b[0m                            Traceback (most recent call last)",
      "Cell \u001b[1;32mIn[3], line 1\u001b[0m\n\u001b[1;32m----> 1\u001b[0m barn \u001b[39m=\u001b[39m Barn((\u001b[39m300\u001b[39m, \u001b[39m300\u001b[39m), \u001b[39m500\u001b[39m)\n\u001b[0;32m      2\u001b[0m barn\u001b[39m.\u001b[39mdraw()\n",
      "File \u001b[1;32mc:\\Users\\bradl\\chicken_agent_model\\utilities\\barn_enviroment.py:61\u001b[0m, in \u001b[0;36mBarn.__init__\u001b[1;34m(self, size, num_chickens)\u001b[0m\n\u001b[0;32m     59\u001b[0m \u001b[39mdef\u001b[39;00m \u001b[39m__init__\u001b[39m(\u001b[39mself\u001b[39m, size: \u001b[39mtuple\u001b[39m, num_chickens\u001b[39m=\u001b[39m\u001b[39m500\u001b[39m) \u001b[39m-\u001b[39m\u001b[39m>\u001b[39m \u001b[39mNone\u001b[39;00m:\n\u001b[0;32m     60\u001b[0m     \u001b[39mself\u001b[39m\u001b[39m.\u001b[39mwaterlines \u001b[39m=\u001b[39m WaterScape(size)\n\u001b[1;32m---> 61\u001b[0m     \u001b[39mself\u001b[39m\u001b[39m.\u001b[39mfeedlines \u001b[39m=\u001b[39m FoodScape(size)\n\u001b[0;32m     62\u001b[0m     \u001b[39m# self.temp_fluxuations = TempScape(size)\u001b[39;00m\n\u001b[0;32m     63\u001b[0m     \u001b[39mself\u001b[39m\u001b[39m.\u001b[39mbarn_size \u001b[39m=\u001b[39m size\n",
      "File \u001b[1;32mc:\\Users\\bradl\\chicken_agent_model\\utilities\\foodscape.py:52\u001b[0m, in \u001b[0;36mFoodScape.__init__\u001b[1;34m(self, size)\u001b[0m\n\u001b[0;32m     50\u001b[0m \u001b[39mself\u001b[39m\u001b[39m.\u001b[39msize \u001b[39m=\u001b[39m size\n\u001b[0;32m     51\u001b[0m \u001b[39mself\u001b[39m\u001b[39m.\u001b[39mfeedline_array: np\u001b[39m.\u001b[39marray \u001b[39m=\u001b[39m np\u001b[39m.\u001b[39mzeros(size, dtype\u001b[39m=\u001b[39mnp\u001b[39m.\u001b[39muint8)\n\u001b[1;32m---> 52\u001b[0m \u001b[39mself\u001b[39m\u001b[39m.\u001b[39m__generate_feedlines()\n\u001b[0;32m     53\u001b[0m \u001b[39mself\u001b[39m\u001b[39m.\u001b[39m__occupancy_grid: np\u001b[39m.\u001b[39marray \u001b[39m=\u001b[39m np\u001b[39m.\u001b[39mzeros(size, dtype\u001b[39m=\u001b[39mnp\u001b[39m.\u001b[39muint8)\n",
      "File \u001b[1;32mc:\\Users\\bradl\\chicken_agent_model\\utilities\\foodscape.py:34\u001b[0m, in \u001b[0;36mFoodScape.__generate_feedlines\u001b[1;34m(self, points)\u001b[0m\n\u001b[0;32m     32\u001b[0m \u001b[39m\"\"\"Generate the feedlines.\"\"\"\u001b[39;00m\n\u001b[0;32m     33\u001b[0m feedline_points \u001b[39m=\u001b[39m []\n\u001b[1;32m---> 34\u001b[0m \u001b[39mfor\u001b[39;00m i \u001b[39min\u001b[39;00m \u001b[39mrange\u001b[39m(\u001b[39mself\u001b[39m\u001b[39m.\u001b[39mnum_lines):\n\u001b[0;32m     35\u001b[0m     \u001b[39mfor\u001b[39;00m j \u001b[39min\u001b[39;00m \u001b[39mrange\u001b[39m(\u001b[39mself\u001b[39m\u001b[39m.\u001b[39mnum_troughs):\n\u001b[0;32m     36\u001b[0m         x \u001b[39m=\u001b[39m \u001b[39mint\u001b[39m(\u001b[39mself\u001b[39m\u001b[39m.\u001b[39mY_PERMINITER_OFFSET_PIXELS \u001b[39m+\u001b[39m j \u001b[39m*\u001b[39m \u001b[39mself\u001b[39m\u001b[39m.\u001b[39mPIXELS_BETWEEN_TROUGHS)\n",
      "\u001b[1;31mAttributeError\u001b[0m: 'FoodScape' object has no attribute 'num_lines'"
     ]
    }
   ],
   "source": [
    "barn = Barn((300, 300), 500)\n",
    "barn.draw()"
   ]
  },
  {
   "cell_type": "code",
   "execution_count": 3,
   "metadata": {
    "ExecuteTime": {
     "end_time": "2023-04-15T12:42:03.926646Z",
     "start_time": "2023-04-15T12:39:35.561338Z"
    },
    "collapsed": false
   },
   "outputs": [
    {
     "name": "stdout",
     "output_type": "stream",
     "text": [
      "Wandering\n"
     ]
    },
    {
     "ename": "TypeError",
     "evalue": "'set' object is not subscriptable",
     "output_type": "error",
     "traceback": [
      "\u001b[0;31m---------------------------------------------------------------------------\u001b[0m",
      "\u001b[0;31mTypeError\u001b[0m                                 Traceback (most recent call last)",
      "Cell \u001b[0;32mIn[3], line 1\u001b[0m\n\u001b[0;32m----> 1\u001b[0m barn\u001b[38;5;241m.\u001b[39mstep()\n\u001b[1;32m      2\u001b[0m barn\u001b[38;5;241m.\u001b[39mdraw()\n",
      "File \u001b[0;32m~/Documents/chicken_agent_model/utilities/barn_enviroment.py:129\u001b[0m, in \u001b[0;36mBarn.step\u001b[0;34m(self)\u001b[0m\n\u001b[1;32m    127\u001b[0m \u001b[38;5;28;01mfor\u001b[39;00m chicken \u001b[38;5;129;01min\u001b[39;00m random_order:\n\u001b[1;32m    128\u001b[0m     \u001b[38;5;28mself\u001b[39m\u001b[38;5;241m.\u001b[39moccupacy\u001b[38;5;241m.\u001b[39mremove(chicken\u001b[38;5;241m.\u001b[39mloc)\n\u001b[0;32m--> 129\u001b[0m     chicken\u001b[38;5;241m.\u001b[39mstep(\u001b[38;5;28mself\u001b[39m)\n\u001b[1;32m    130\u001b[0m     \u001b[38;5;28mself\u001b[39m\u001b[38;5;241m.\u001b[39moccupacy\u001b[38;5;241m.\u001b[39madd(chicken\u001b[38;5;241m.\u001b[39mloc)\n",
      "File \u001b[0;32m~/Documents/chicken_agent_model/utilities/chicken.py:67\u001b[0m, in \u001b[0;36mChicken.step\u001b[0;34m(self, env)\u001b[0m\n\u001b[1;32m     62\u001b[0m \u001b[38;5;124;03m\"\"\"Look around, move, and harvest.\u001b[39;00m\n\u001b[1;32m     63\u001b[0m \n\u001b[1;32m     64\u001b[0m \u001b[38;5;124;03menv: Barn\u001b[39;00m\n\u001b[1;32m     65\u001b[0m \u001b[38;5;124;03m\"\"\"\u001b[39;00m\n\u001b[1;32m     66\u001b[0m \u001b[38;5;28mself\u001b[39m\u001b[38;5;241m.\u001b[39m__evaluate_need()\n\u001b[0;32m---> 67\u001b[0m \u001b[38;5;28mself\u001b[39m\u001b[38;5;241m.\u001b[39mloc \u001b[38;5;241m=\u001b[39m env\u001b[38;5;241m.\u001b[39mlook_and_move(\u001b[38;5;28mself\u001b[39m\u001b[38;5;241m.\u001b[39mloc, \u001b[38;5;28mself\u001b[39m\u001b[38;5;241m.\u001b[39mvision, \u001b[38;5;28mself\u001b[39m\u001b[38;5;241m.\u001b[39mneed, \u001b[38;5;28mself\u001b[39m\u001b[38;5;241m.\u001b[39msearch_angle)\n\u001b[1;32m     68\u001b[0m thirst_addition \u001b[38;5;241m=\u001b[39m env\u001b[38;5;241m.\u001b[39mwaterlines\u001b[38;5;241m.\u001b[39mget_resource(\u001b[38;5;28mself\u001b[39m\u001b[38;5;241m.\u001b[39mloc)\n\u001b[1;32m     69\u001b[0m \u001b[38;5;28mself\u001b[39m\u001b[38;5;241m.\u001b[39mthirst \u001b[38;5;241m+\u001b[39m\u001b[38;5;241m=\u001b[39m thirst_addition \u001b[38;5;241m-\u001b[39m Chicken\u001b[38;5;241m.\u001b[39mTHIRST_DECAY\n",
      "File \u001b[0;32m~/Documents/chicken_agent_model/utilities/barn_enviroment.py:94\u001b[0m, in \u001b[0;36mBarn.look_and_move\u001b[0;34m(self, loc, vision, need, wander_angle)\u001b[0m\n\u001b[1;32m     89\u001b[0m empty_locs \u001b[38;5;241m=\u001b[39m [loc \u001b[38;5;28;01mfor\u001b[39;00m loc \u001b[38;5;129;01min\u001b[39;00m locs \u001b[38;5;28;01mif\u001b[39;00m \u001b[38;5;28mself\u001b[39m\u001b[38;5;241m.\u001b[39moccupacy[loc] \u001b[38;5;241m==\u001b[39m \u001b[38;5;241m0\u001b[39m]\n\u001b[1;32m     91\u001b[0m \u001b[38;5;28;01mif\u001b[39;00m \u001b[38;5;28mlen\u001b[39m(empty_locs) \u001b[38;5;241m==\u001b[39m \u001b[38;5;241m0\u001b[39m:\n\u001b[1;32m     92\u001b[0m     \u001b[38;5;66;03m# Start looking for resource\u001b[39;00m\n\u001b[0;32m---> 94\u001b[0m     \u001b[38;5;28;01mreturn\u001b[39;00m \u001b[38;5;28mself\u001b[39m\u001b[38;5;241m.\u001b[39mwander(loc, vision, wander_angle)\n\u001b[1;32m     96\u001b[0m \u001b[38;5;28;01mreturn\u001b[39;00m empty_locs[\u001b[38;5;241m0\u001b[39m]\n",
      "File \u001b[0;32m~/Documents/chicken_agent_model/utilities/barn_enviroment.py:116\u001b[0m, in \u001b[0;36mBarn.wander\u001b[0;34m(self, loc, vision, wander_angle)\u001b[0m\n\u001b[1;32m    113\u001b[0m     np_locs \u001b[38;5;241m=\u001b[39m np\u001b[38;5;241m.\u001b[39marray([x, y])\u001b[38;5;241m.\u001b[39mT\n\u001b[1;32m    114\u001b[0m     locs \u001b[38;5;241m=\u001b[39m [\u001b[38;5;28mtuple\u001b[39m(loc) \u001b[38;5;28;01mfor\u001b[39;00m loc \u001b[38;5;129;01min\u001b[39;00m np_locs]\n\u001b[0;32m--> 116\u001b[0m     empty_locs \u001b[38;5;241m=\u001b[39m [loc \u001b[38;5;28;01mfor\u001b[39;00m loc \u001b[38;5;129;01min\u001b[39;00m locs \u001b[38;5;28;01mif\u001b[39;00m \u001b[38;5;28mself\u001b[39m\u001b[38;5;241m.\u001b[39moccupacy[loc] \u001b[38;5;241m==\u001b[39m \u001b[38;5;241m0\u001b[39m]\n\u001b[1;32m    117\u001b[0m     wander_vision \u001b[38;5;241m-\u001b[39m\u001b[38;5;241m=\u001b[39m \u001b[38;5;241m1\u001b[39m\n\u001b[1;32m    119\u001b[0m \u001b[38;5;28;01mif\u001b[39;00m empty_locs \u001b[38;5;241m==\u001b[39m \u001b[38;5;241m0\u001b[39m:\n",
      "File \u001b[0;32m~/Documents/chicken_agent_model/utilities/barn_enviroment.py:116\u001b[0m, in \u001b[0;36m<listcomp>\u001b[0;34m(.0)\u001b[0m\n\u001b[1;32m    113\u001b[0m     np_locs \u001b[38;5;241m=\u001b[39m np\u001b[38;5;241m.\u001b[39marray([x, y])\u001b[38;5;241m.\u001b[39mT\n\u001b[1;32m    114\u001b[0m     locs \u001b[38;5;241m=\u001b[39m [\u001b[38;5;28mtuple\u001b[39m(loc) \u001b[38;5;28;01mfor\u001b[39;00m loc \u001b[38;5;129;01min\u001b[39;00m np_locs]\n\u001b[0;32m--> 116\u001b[0m     empty_locs \u001b[38;5;241m=\u001b[39m [loc \u001b[38;5;28;01mfor\u001b[39;00m loc \u001b[38;5;129;01min\u001b[39;00m locs \u001b[38;5;28;01mif\u001b[39;00m \u001b[38;5;28mself\u001b[39m\u001b[38;5;241m.\u001b[39moccupacy[loc] \u001b[38;5;241m==\u001b[39m \u001b[38;5;241m0\u001b[39m]\n\u001b[1;32m    117\u001b[0m     wander_vision \u001b[38;5;241m-\u001b[39m\u001b[38;5;241m=\u001b[39m \u001b[38;5;241m1\u001b[39m\n\u001b[1;32m    119\u001b[0m \u001b[38;5;28;01mif\u001b[39;00m empty_locs \u001b[38;5;241m==\u001b[39m \u001b[38;5;241m0\u001b[39m:\n",
      "\u001b[0;31mTypeError\u001b[0m: 'set' object is not subscriptable"
     ]
    }
   ],
   "source": [
    "barn.step()\n",
    "barn.draw()"
   ]
  },
  {
   "cell_type": "code",
   "execution_count": 4,
   "metadata": {
    "ExecuteTime": {
     "end_time": "2023-04-13T17:48:01.652054Z",
     "start_time": "2023-04-13T17:48:01.646404Z"
    },
    "collapsed": false
   },
   "outputs": [
    {
     "data": {
      "text/plain": [
       "array([[  7,  98],\n",
       "       [  7,  99],\n",
       "       [  7, 100],\n",
       "       ...,\n",
       "       [293, 198],\n",
       "       [293, 199],\n",
       "       [293, 200]])"
      ]
     },
     "execution_count": 4,
     "metadata": {},
     "output_type": "execute_result"
    }
   ],
   "source": [
    "barn.chickens"
   ]
  },
  {
   "cell_type": "code",
   "execution_count": null,
   "metadata": {
    "collapsed": false
   },
   "outputs": [],
   "source": []
  }
 ],
 "metadata": {
  "kernelspec": {
   "display_name": "Python 3",
   "language": "python",
   "name": "python3"
  },
  "language_info": {
   "codemirror_mode": {
    "name": "ipython",
    "version": 3
   },
   "file_extension": ".py",
   "mimetype": "text/x-python",
   "name": "python",
   "nbconvert_exporter": "python",
   "pygments_lexer": "ipython3",
   "version": "3.11.2"
  }
 },
 "nbformat": 4,
 "nbformat_minor": 0
}
